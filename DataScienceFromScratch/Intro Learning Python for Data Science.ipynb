{
 "cells": [
  {
   "cell_type": "markdown",
   "metadata": {},
   "source": [
    "# Intro Learning Python for Data Science"
   ]
  },
  {
   "cell_type": "code",
   "execution_count": null,
   "metadata": {
    "collapsed": true
   },
   "outputs": [],
   "source": [
    "from __future__ import division\n",
    "import re\n",
    "from collections import defaultdict\n",
    "from collections import Counter\n",
    "\n",
    "import random\n",
    "\n",
    "from functools import partial"
   ]
  },
  {
   "cell_type": "code",
   "execution_count": 3,
   "metadata": {
    "collapsed": false
   },
   "outputs": [
    {
     "name": "stdout",
     "output_type": "stream",
     "text": [
      "1\n",
      "9\n",
      "10\n",
      "8\n",
      "9\n",
      "7\n",
      "8\n",
      "6\n",
      "7\n",
      "2\n",
      "9\n",
      "11\n",
      "8\n",
      "10\n",
      "7\n",
      "9\n",
      "6\n",
      "8\n",
      "4\n",
      "9\n",
      "13\n",
      "8\n",
      "12\n",
      "7\n",
      "11\n",
      "6\n",
      "10\n",
      "5\n",
      "9\n",
      "14\n",
      "8\n",
      "13\n",
      "7\n",
      "12\n",
      "6\n",
      "11\n",
      "end i\n"
     ]
    }
   ],
   "source": [
    "for i in [1, 2, 4, 5]:\n",
    "    print i\n",
    "    for j in [9, 8, 7, 6]:\n",
    "        print j\n",
    "        print i + j\n",
    "    print \"end i\""
   ]
  },
  {
   "cell_type": "code",
   "execution_count": 4,
   "metadata": {
    "collapsed": false
   },
   "outputs": [
    {
     "name": "stdout",
     "output_type": "stream",
     "text": [
      "2\n",
      "5\n"
     ]
    }
   ],
   "source": [
    "def double (x):\n",
    "    return x * 2\n",
    "\n",
    "def apply_to_one(f):\n",
    "    return f(1)\n",
    "\n",
    "my_double = double\n",
    "x = apply_to_one(my_double)\n",
    "\n",
    "print(x)\n",
    "\n",
    "y = apply_to_one(lambda x: x + 4)\n",
    "print(y)\n"
   ]
  },
  {
   "cell_type": "code",
   "execution_count": 8,
   "metadata": {
    "collapsed": false
   },
   "outputs": [
    {
     "name": "stdout",
     "output_type": "stream",
     "text": [
      "[[1, 2, 3], ['string', 0.1, True], []]\n",
      "None\n",
      "[[1, 2, 3], ['string', 0.1, True], [], [4, 5, 6]]\n",
      "4\n",
      "6\n"
     ]
    }
   ],
   "source": [
    "int_list = [1,2,3]\n",
    "het_list = [\"string\", .1, True]\n",
    "list_of_lists = [ int_list, het_list, [] ]\n",
    "print(list_of_lists)\n",
    "print(list_of_lists.append([ 4, 5, 6])) ## none \n",
    "print (list_of_lists)\n",
    "print (len(list_of_lists))\n",
    "print (sum(int_list))"
   ]
  },
  {
   "cell_type": "code",
   "execution_count": 9,
   "metadata": {
    "collapsed": false
   },
   "outputs": [
    {
     "name": "stdout",
     "output_type": "stream",
     "text": [
      "(1, 2)\n",
      "(2, 1)\n"
     ]
    }
   ],
   "source": [
    "my_list = [1,2]\n",
    "my_tuple = (1, 2)\n",
    "\n",
    "x, y = my_list\n",
    "print (x,y)\n",
    "y, x = x,y\n",
    "print (x,y)\n"
   ]
  },
  {
   "cell_type": "code",
   "execution_count": 10,
   "metadata": {
    "collapsed": false
   },
   "outputs": [
    {
     "name": "stdout",
     "output_type": "stream",
     "text": [
      "True\n",
      "3.0\n",
      "3.0\n",
      "defaultdict(<type 'int'>, {})\n",
      "defaultdict(<type 'int'>, {'pete': {'phone': '3091111111', 'age': 26, 'name': 'Pete'}})\n",
      "{'phone': '3091111111', 'age': 26, 'name': 'Pete'}\n"
     ]
    }
   ],
   "source": [
    "empty_dict = {}\n",
    "\n",
    "grades = { \"Jim\": 4.0, \"Pete\": 3.0 }\n",
    "\n",
    "petes_grades = \"Pete\" in grades\n",
    "\n",
    "print (petes_grades)\n",
    "print (grades[\"Pete\"])\n",
    "print (grades.get(\"Pete\", 0))\n",
    "\n",
    "int_dd_list = defaultdict(int)\n",
    "print (int_dd_list)\n",
    "int_dd_list[\"pete\"] = { \"name\": \"Pete\", \"phone\": \"3091111111\", \"age\": 26 }\n",
    "print (int_dd_list)\n",
    "\n",
    "print (int_dd_list[\"pete\"])"
   ]
  },
  {
   "cell_type": "code",
   "execution_count": 11,
   "metadata": {
    "collapsed": false
   },
   "outputs": [
    {
     "name": "stdout",
     "output_type": "stream",
     "text": [
      "Counter({2: 2, 0: 1, 1: 1, 3: 1})\n",
      "Counter({'l': 5, 'o': 3, ' ': 2, 'e': 2, 'h': 2, 'd': 1, 'r': 1, 'w': 1})\n"
     ]
    },
    {
     "ename": "TypeError",
     "evalue": "'set' object is not callable",
     "output_type": "error",
     "traceback": [
      "\u001b[0;31m---------------------------------------------------------------------------\u001b[0m",
      "\u001b[0;31mTypeError\u001b[0m                                 Traceback (most recent call last)",
      "\u001b[0;32m<ipython-input-11-ed59d094f6b4>\u001b[0m in \u001b[0;36m<module>\u001b[0;34m()\u001b[0m\n\u001b[1;32m      5\u001b[0m \u001b[0;32mprint\u001b[0m \u001b[0;34m(\u001b[0m\u001b[0mc2\u001b[0m\u001b[0;34m)\u001b[0m\u001b[0;34m\u001b[0m\u001b[0m\n\u001b[1;32m      6\u001b[0m \u001b[0;34m\u001b[0m\u001b[0m\n\u001b[0;32m----> 7\u001b[0;31m \u001b[0mset\u001b[0m \u001b[0;34m=\u001b[0m \u001b[0mset\u001b[0m\u001b[0;34m(\u001b[0m\u001b[0mc2\u001b[0m\u001b[0;34m)\u001b[0m\u001b[0;34m\u001b[0m\u001b[0m\n\u001b[0m\u001b[1;32m      8\u001b[0m \u001b[0;32mprint\u001b[0m \u001b[0;34m(\u001b[0m\u001b[0mset\u001b[0m\u001b[0;34m)\u001b[0m\u001b[0;34m\u001b[0m\u001b[0m\n",
      "\u001b[0;31mTypeError\u001b[0m: 'set' object is not callable"
     ]
    }
   ],
   "source": [
    "c = Counter([0,1,2,3,2])\n",
    "print (c)\n",
    "\n",
    "c2 = Counter(\"hello world hello\");\n",
    "print (c2)\n",
    "\n",
    "#set = set(c2)\n",
    "#print (set)"
   ]
  },
  {
   "cell_type": "code",
   "execution_count": 12,
   "metadata": {
    "collapsed": false
   },
   "outputs": [
    {
     "name": "stdout",
     "output_type": "stream",
     "text": [
      "t\n",
      "0\n",
      "[0, 2, 4]\n",
      "[0, 1, 4, 9, 16]\n",
      "{0: 0, 1: 1, 2: 4, 3: 9, 4: 16}\n",
      "set([1, 4])\n",
      "[0.8249175437601106, 0.31171672485591484, 0.8617234530186274, 0.9342452597991895]\n",
      "6\n",
      "MySet: [1, 2, 3]\n",
      "[2, 4, 6, 8]\n",
      "[2, 4, 6, 8]\n",
      "16\n"
     ]
    }
   ],
   "source": [
    "s = \"Sting\"\n",
    "print (1 and s[1]) ## and returns second value when the 1st is truthy\n",
    "\n",
    "x=None\n",
    "safe_x = x or 0\n",
    "print (safe_x)\n",
    "\n",
    "even_numbers = [x for x in range(5) if x % 2 ==0]\n",
    "print (even_numbers)\n",
    "\n",
    "squares = [x * x for x in range(5)]\n",
    "print (squares)\n",
    "\n",
    "square_dict = { x : x * x for x in range(5) }\n",
    "print (square_dict)\n",
    "\n",
    "square_set = { x * x for x in [1, -2, 2, 1] } ## ???\n",
    "print (square_set)\n",
    "\n",
    "four_uniform_randoms = [random.random() for __ in range(4) ]\n",
    "print (four_uniform_randoms)\n",
    "\n",
    "r = random.randrange(1000)\n",
    "print (r)\n",
    "\n",
    "class MySet:\n",
    "    def __init__(self, values = None):\n",
    "        self.dict = {}\n",
    "\n",
    "        if values is not None:\n",
    "            for value in values:\n",
    "                self.add(value)\n",
    "            \n",
    "    def __repr__(self):\n",
    "        return \"MySet: \" + str(self.dict.keys())\n",
    "\n",
    "    def add (self, value):\n",
    "        self.dict[value] = True\n",
    "\n",
    "    def contains(self, value):\n",
    "        return value in self.dict\n",
    "\n",
    "    def remove(self, value):\n",
    "        del self.dict[value]\n",
    "\n",
    "set1 = MySet([1, 2, 3, 2])\n",
    "\n",
    "print (set1)\n",
    "\n",
    "def double (x):\n",
    "    return x * 2\n",
    "\n",
    "def exp(base, power):\n",
    "    return base ** power\n",
    "\n",
    "xs = [1, 2, 3, 4]\n",
    "\n",
    "twice_xs = [double(x) for x in xs]\n",
    "print (twice_xs)\n",
    "\n",
    "twice_xs = map (double, xs)\n",
    "print (twice_xs)\n",
    "\n",
    "two_to_the = partial(exp, 2)\n",
    "print (two_to_the(4))\n",
    "\n"
   ]
  },
  {
   "cell_type": "code",
   "execution_count": null,
   "metadata": {
    "collapsed": true
   },
   "outputs": [],
   "source": []
  }
 ],
 "metadata": {
  "kernelspec": {
   "display_name": "Python [conda root]",
   "language": "python",
   "name": "conda-root-py"
  },
  "language_info": {
   "codemirror_mode": {
    "name": "ipython",
    "version": 2
   },
   "file_extension": ".py",
   "mimetype": "text/x-python",
   "name": "python",
   "nbconvert_exporter": "python",
   "pygments_lexer": "ipython2",
   "version": "2.7.13"
  }
 },
 "nbformat": 4,
 "nbformat_minor": 2
}
