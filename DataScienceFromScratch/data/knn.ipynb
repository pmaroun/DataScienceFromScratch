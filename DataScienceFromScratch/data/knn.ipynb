{
 "cells": [
  {
   "cell_type": "code",
   "execution_count": 3,
   "metadata": {
    "collapsed": false
   },
   "outputs": [],
   "source": [
    "%matplotlib inline\n",
    "\n",
    "# load the digits data\n",
    "from sklearn import datasets\n",
    "\n",
    "digits = datasets.load_digits()"
   ]
  },
  {
   "cell_type": "code",
   "execution_count": 4,
   "metadata": {
    "collapsed": false
   },
   "outputs": [
    {
     "name": "stdout",
     "output_type": "stream",
     "text": [
      "Each image is an 8x8 array of pixels:\n",
      "[[  0.   0.   5.  13.   9.   1.   0.   0.]\n",
      " [  0.   0.  13.  15.  10.  15.   5.   0.]\n",
      " [  0.   3.  15.   2.   0.  11.   8.   0.]\n",
      " [  0.   4.  12.   0.   0.   8.   8.   0.]\n",
      " [  0.   5.   8.   0.   0.   9.   8.   0.]\n",
      " [  0.   4.  11.   0.   1.  12.   7.   0.]\n",
      " [  0.   2.  14.   5.  10.  12.   0.   0.]\n",
      " [  0.   0.   6.  13.  10.   0.   0.   0.]]\n"
     ]
    }
   ],
   "source": [
    "# show image pixels as an array\n",
    "print \"Each image is an 8x8 array of pixels:\"\n",
    "print digits.images[0]"
   ]
  },
  {
   "cell_type": "code",
   "execution_count": 5,
   "metadata": {
    "collapsed": false
   },
   "outputs": [
    {
     "data": {
      "text/plain": [
       "<matplotlib.image.AxesImage at 0x10b40e050>"
      ]
     },
     "execution_count": 5,
     "metadata": {},
     "output_type": "execute_result"
    },
    {
     "data": {
      "image/png": "[encoded data removed]",
      "text/plain": [
       "<matplotlib.figure.Figure at 0x10b3c4310>"
      ]
     },
     "metadata": {},
     "output_type": "display_data"
    }
   ],
   "source": [
    "# plot an image\n",
    "import pylab as pl\n",
    "\n",
    "pl.imshow(digits.images[0], cmap=pl.cm.gray_r, interpolation='nearest')"
   ]
  },
  {
   "cell_type": "code",
   "execution_count": 6,
   "metadata": {
    "collapsed": false
   },
   "outputs": [
    {
     "name": "stdout",
     "output_type": "stream",
     "text": [
      "This image has been labeled as a: 0\n",
      "Its 64 features (pixel values) are:\n",
      "[  0.   0.   5.  13.   9.   1.   0.   0.   0.   0.  13.  15.  10.  15.   5.\n",
      "   0.   0.   3.  15.   2.   0.  11.   8.   0.   0.   4.  12.   0.   0.   8.\n",
      "   8.   0.   0.   5.   8.   0.   0.   9.   8.   0.   0.   4.  11.   0.   1.\n",
      "  12.   7.   0.   0.   2.  14.   5.  10.  12.   0.   0.   0.   0.   6.  13.\n",
      "  10.   0.   0.   0.]\n"
     ]
    }
   ],
   "source": [
    "# display the label (as a scalar) and features (as a vector)\n",
    "print \"This image has been labeled as a:\" , digits.target[0]\n",
    "print \"Its 64 features (pixel values) are:\"\n",
    "print digits.data[0]"
   ]
  },
  {
   "cell_type": "code",
   "execution_count": 7,
   "metadata": {
    "collapsed": false
   },
   "outputs": [
    {
     "name": "stdout",
     "output_type": "stream",
     "text": [
      "With k = 1 neighbors, our accuracy is 96.09% (error of 3.91%)\n",
      "With k = 2 neighbors, our accuracy is 97.21% (error of 2.79%)\n",
      "With k = 3 neighbors, our accuracy is 97.21% (error of 2.79%)\n",
      "With k = 4 neighbors, our accuracy is 97.21% (error of 2.79%)\n",
      "With k = 5 neighbors, our accuracy is 96.65% (error of 3.35%)\n",
      "With k = 6 neighbors, our accuracy is 94.97% (error of 5.03%)\n",
      "With k = 7 neighbors, our accuracy is 94.41% (error of 5.59%)\n",
      "[0.0, 0.0090466249130132237, 0.0062630480167014113, 0.0076548364648573175, 0.0090466249130132237, 0.0090466249130132237, 0.0097425191370911213]\n"
     ]
    }
   ],
   "source": [
    "# evaluate a k-nearest neighbor model with different number of neighbors\n",
    "from sklearn import neighbors\n",
    "import numpy as np\n",
    "\n",
    "# split the data into 80% for training, 10% for validation, and 10% for testing\n",
    "# note: see train_test_split in sklearn.model_selection for pre-packaged function to do this\n",
    "num_train = int(digits.target.size * 0.8)\n",
    "num_validate = int(digits.target.size * 0.1)\n",
    "train_data, train_target = digits.data[:num_train], digits.target[:num_train]\n",
    "validate_data, validate_target = digits.data[num_train:(num_train+num_validate)], digits.target[num_train:(num_train+num_validate)]\n",
    "test_data, test_target = digits.data[(num_train+num_validate):], digits.target[(num_train+num_validate):]\n",
    "\n",
    "# fit for k=1 to k=7\n",
    "num_neighbors = range(1,8)\n",
    "accuracy = []\n",
    "error = []\n",
    "train_accuracy = []\n",
    "for k in num_neighbors:\n",
    "    knn = neighbors.KNeighborsClassifier(n_neighbors=k)\n",
    "    # fit on the training data\n",
    "    knn.fit(train_data, train_target)\n",
    "    # evaluate on the validation data\n",
    "    acc = knn.score(validate_data, validate_target)\n",
    "    err = 1 - acc\n",
    "    print \"With k = %d neighbors, our accuracy is %.2f%% (error of %.2f%%)\" % (k, acc*100, err*100)\n",
    "\n",
    "    accuracy.append(acc)\n",
    "    error.append(err)\n",
    "    \n",
    "    terr = knn.score(train_data, train_target)\n",
    "    \n",
    "    train_accuracy.append(1-terr)\n",
    "print train_accuracy"
   ]
  },
  {
   "cell_type": "code",
   "execution_count": 8,
   "metadata": {
    "collapsed": false
   },
   "outputs": [
    {
     "data": {
      "text/plain": [
       "<matplotlib.text.Text at 0x10b92e7d0>"
      ]
     },
     "execution_count": 8,
     "metadata": {},
     "output_type": "execute_result"
    },
    {
     "data": {
      "image/png": "[encoded data removed]",
      "text/plain": [
       "<matplotlib.figure.Figure at 0x10b497c50>"
      ]
     },
     "metadata": {},
     "output_type": "display_data"
    }
   ],
   "source": [
    "# plot the generalization error with increasing number of neighbors\n",
    "import matplotlib.pyplot as plt\n",
    "\n",
    "plt.plot(num_neighbors, error, '-r', label='validation')\n",
    "plt.plot(num_neighbors, train_accuracy, '-b', label='train')\n",
    "plt.legend(loc='upper left')\n",
    "plt.xlabel('Number of Neighbors')\n",
    "plt.ylabel('Error')"
   ]
  },
  {
   "cell_type": "code",
   "execution_count": 9,
   "metadata": {
    "collapsed": false
   },
   "outputs": [
    {
     "name": "stdout",
     "output_type": "stream",
     "text": [
      "             precision    recall  f1-score   support\n",
      "\n",
      "          0       1.00      1.00      1.00        16\n",
      "          1       0.95      1.00      0.97        19\n",
      "          2       1.00      1.00      1.00        17\n",
      "          3       0.94      0.94      0.94        18\n",
      "          4       1.00      1.00      1.00        20\n",
      "          5       0.90      1.00      0.95        18\n",
      "          6       1.00      1.00      1.00        18\n",
      "          7       1.00      1.00      1.00        19\n",
      "          8       1.00      0.94      0.97        17\n",
      "          9       1.00      0.89      0.94        19\n",
      "\n",
      "avg / total       0.98      0.98      0.98       181\n",
      "\n",
      "[[16  0  0  0  0  0  0  0  0  0]\n",
      " [ 0 19  0  0  0  0  0  0  0  0]\n",
      " [ 0  0 17  0  0  0  0  0  0  0]\n",
      " [ 0  0  0 17  0  1  0  0  0  0]\n",
      " [ 0  0  0  0 20  0  0  0  0  0]\n",
      " [ 0  0  0  0  0 18  0  0  0  0]\n",
      " [ 0  0  0  0  0  0 18  0  0  0]\n",
      " [ 0  0  0  0  0  0  0 19  0  0]\n",
      " [ 0  1  0  0  0  0  0  0 16  0]\n",
      " [ 0  0  0  1  0  1  0  0  0 17]]\n"
     ]
    }
   ],
   "source": [
    "# evaluate the model with best generalization error on the test set\n",
    "from sklearn.metrics import confusion_matrix, classification_report\n",
    "\n",
    "# find the best value of k\n",
    "k = num_neighbors[np.argmax(accuracy)]\n",
    "\n",
    "# refit the model on all of the training and validation data\n",
    "knn = neighbors.KNeighborsClassifier(n_neighbors=k)\n",
    "knn.fit(digits.data[:(num_train+num_validate)], digits.target[:(num_train+num_validate)])\n",
    "\n",
    "predicted = knn.predict(test_data)\n",
    "\n",
    "print classification_report(test_target, predicted)\n",
    "\n",
    "confmat = confusion_matrix(test_target, predicted)\n",
    "print confmat"
   ]
  }
 ],
 "metadata": {
  "kernelspec": {
   "display_name": "Python 2",
   "language": "python",
   "name": "python2"
  },
  "language_info": {
   "codemirror_mode": {
    "name": "ipython",
    "version": 2
   },
   "file_extension": ".py",
   "mimetype": "text/x-python",
   "name": "python",
   "nbconvert_exporter": "python",
   "pygments_lexer": "ipython2",
   "version": "2.7.10"
  }
 },
 "nbformat": 4,
 "nbformat_minor": 0
}
